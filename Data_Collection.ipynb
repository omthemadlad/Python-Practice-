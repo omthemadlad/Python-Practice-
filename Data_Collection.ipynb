{
 "cells": [
  {
   "cell_type": "markdown",
   "metadata": {},
   "source": [
    "Accept 10 numbers from the user and calculate their sum."
   ]
  },
  {
   "cell_type": "code",
   "execution_count": 2,
   "metadata": {},
   "outputs": [
    {
     "name": "stdout",
     "output_type": "stream",
     "text": [
      "100\n"
     ]
    }
   ],
   "source": [
    "count = 0\n",
    "for i in range(1, 11):\n",
    "    num = int(input(f\"Enter {i} number you want to do the sum: \"))\n",
    "    count = count+num\n",
    "print(count)"
   ]
  },
  {
   "cell_type": "markdown",
   "metadata": {},
   "source": [
    "Accept a number from the user and find the factorial of the number."
   ]
  },
  {
   "cell_type": "code",
   "execution_count": 7,
   "metadata": {},
   "outputs": [
    {
     "name": "stdout",
     "output_type": "stream",
     "text": [
      "3628800\n"
     ]
    }
   ],
   "source": [
    "ftt = 1\n",
    "fact = int(input(\"Enter the number you want to find the factorial of: \"))\n",
    "for i in range(1, fact+1):\n",
    "    if fact == 0:\n",
    "        print(1)\n",
    "    elif fact < 0:\n",
    "        print('Facatorial of negative number no possible !')\n",
    "    else:\n",
    "        ftt = ftt*i\n",
    "print(ftt)"
   ]
  },
  {
   "cell_type": "markdown",
   "metadata": {},
   "source": [
    "Accept a number from the user and calculate the sum of the digits of the number."
   ]
  },
  {
   "cell_type": "code",
   "execution_count": 12,
   "metadata": {},
   "outputs": [
    {
     "name": "stdout",
     "output_type": "stream",
     "text": [
      "Sum of the digits of the given number is : 4\n"
     ]
    }
   ],
   "source": [
    "num = input(\"Enter number: \")\n",
    "sum = 0\n",
    "for i in num:\n",
    "    sum += int(i)\n",
    "print(f'Sum of the digits of the given number is : {sum}')\n"
   ]
  },
  {
   "cell_type": "markdown",
   "metadata": {},
   "source": [
    "Go on accepting numbers from the user till the user enters 0 and calculate the sum of these numbers."
   ]
  },
  {
   "cell_type": "code",
   "execution_count": 23,
   "metadata": {},
   "outputs": [
    {
     "name": "stdout",
     "output_type": "stream",
     "text": [
      "2\n"
     ]
    }
   ],
   "source": [
    "sum = 0\n",
    "i = None\n",
    "while i != 0:\n",
    "    i = int(input('Enter as many numbers as you want as long as it is not zero :'))\n",
    "    sum += i\n",
    "print(sum)"
   ]
  },
  {
   "cell_type": "code",
   "execution_count": 2,
   "metadata": {},
   "outputs": [
    {
     "name": "stdout",
     "output_type": "stream",
     "text": [
      "10\n"
     ]
    }
   ],
   "source": [
    "s = 'ccababababababababavabaaba'\n",
    "count = 0\n",
    "for i in range(len(s) - len('aba')+1):\n",
    "    if s[i:i+len('aba')] == 'aba':\n",
    "        count+=1\n",
    "print(count)"
   ]
  },
  {
   "cell_type": "code",
   "execution_count": null,
   "metadata": {},
   "outputs": [
    {
     "name": "stdout",
     "output_type": "stream",
     "text": [
      "The substring 'aba' occurs 1 times in 'ccababa'.\n"
     ]
    }
   ],
   "source": [
    "ABCDEFGHIJKLIMNOQRSTUVWXYZ\n",
    "4"
   ]
  },
  {
   "cell_type": "code",
   "execution_count": 15,
   "metadata": {},
   "outputs": [
    {
     "name": "stdout",
     "output_type": "stream",
     "text": [
      "[8, 0, 7]\n"
     ]
    }
   ],
   "source": [
    "l1 = [2,4,3]\n",
    "l2 = [5,6,4]\n",
    "l3 = int(''.join(map(str, l1[::-1]))) + int(''.join(map(str, l2[::-1])))\n",
    "result = list(map(int, str(l3)))\n",
    "print(result)"
   ]
  },
  {
   "cell_type": "code",
   "execution_count": null,
   "metadata": {},
   "outputs": [
    {
     "name": "stdout",
     "output_type": "stream",
     "text": [
      "Number is not prime\n"
     ]
    }
   ],
   "source": [
    "n = int(input(\"Enter a number to check prime number : \"))\n",
    "for i in range(2,n):\n",
    "    if n%i == 0:\n",
    "        print(\"Number is not prime\")\n",
    "        break\n",
    "else :\n",
    "    print(\"Number is prime\")"
   ]
  },
  {
   "cell_type": "code",
   "execution_count": 33,
   "metadata": {},
   "outputs": [
    {
     "name": "stdout",
     "output_type": "stream",
     "text": [
      "[1, 2, 3, 4, 5]\n",
      "[1, 2, 3, 4, 5]\n"
     ]
    }
   ],
   "source": [
    "l1 = [1,2,3,4,5]\n",
    "l2 = [*l1]\n",
    "print(l1)\n",
    "print(l2)"
   ]
  },
  {
   "cell_type": "code",
   "execution_count": 36,
   "metadata": {},
   "outputs": [
    {
     "name": "stdout",
     "output_type": "stream",
     "text": [
      "[1, 2, 3, 4, 5, 9, 9, 9]\n",
      "[1, 2, 3, 4, 5]\n"
     ]
    }
   ],
   "source": [
    "l1.append(9)\n",
    "print(l1)\n",
    "print(l2)"
   ]
  },
  {
   "cell_type": "code",
   "execution_count": null,
   "metadata": {},
   "outputs": [
    {
     "name": "stdout",
     "output_type": "stream",
     "text": [
      "fun is Python\n"
     ]
    }
   ],
   "source": [
    "# Problem 1: Reversing the Order of Words in a Sentence\n",
    "sentence = \"Python is fun\"\n",
    "lss = ' '.join(sentence.split()[::-1])\n",
    "print(lss)\n"
   ]
  },
  {
   "cell_type": "code",
   "execution_count": 50,
   "metadata": {},
   "outputs": [
    {
     "name": "stdout",
     "output_type": "stream",
     "text": [
      "['apple', 'banana', 'apple', 'orange', 'banana', 'apple']\n",
      "Word: apple -> Occurence: 3\n",
      "Word: banana -> Occurence: 2\n",
      "Word: apple -> Occurence: 3\n",
      "Word: orange -> Occurence: 1\n",
      "Word: banana -> Occurence: 2\n",
      "Word: apple -> Occurence: 3\n"
     ]
    }
   ],
   "source": [
    "# Problem 2: Counting Word Occurrences in a String\n",
    "text = \"apple banana apple orange banana apple\"\n",
    "lss = text.split()\n",
    "print(lss)\n",
    "for i in lss:\n",
    "    a = lss.count(i)\n",
    "    print(f\"Word: {i} -> Occurence: {a}\")"
   ]
  },
  {
   "cell_type": "code",
   "execution_count": 49,
   "metadata": {},
   "outputs": [
    {
     "name": "stdout",
     "output_type": "stream",
     "text": [
      "{'apple': 3, 'banana': 2, 'orange': 1}\n"
     ]
    }
   ],
   "source": [
    "text = \"apple banana apple orange banana apple\"\n",
    "lss = text.split()\n",
    "ditt = {}\n",
    "for i in lss:\n",
    "    a = lss.count(i)\n",
    "    ditt[i] = a\n",
    "print(ditt)"
   ]
  },
  {
   "cell_type": "code",
   "execution_count": 4,
   "metadata": {},
   "outputs": [
    {
     "name": "stdout",
     "output_type": "stream",
     "text": [
      "[1, 2, 3, 4]\n",
      "[1, 2, 3, 4]\n"
     ]
    }
   ],
   "source": [
    "# Problem 3: Removing Duplicates from a List While Preserving Order\n",
    "lss = [1,1,2,2,3,3,4,4]\n",
    "res = []\n",
    "for i in lss:\n",
    "    if i not in res:\n",
    "        res.append(i)\n",
    "print(res)\n",
    "print(list(set(lss))) "
   ]
  },
  {
   "cell_type": "code",
   "execution_count": 10,
   "metadata": {},
   "outputs": [
    {
     "name": "stdout",
     "output_type": "stream",
     "text": [
      "{3, 4}\n"
     ]
    }
   ],
   "source": [
    "#Join two sets\n",
    "set1 = {1, 2, 3, 4}\n",
    "set2 = {3, 4, 5, 6}\n",
    "print(set1 & set2)"
   ]
  },
  {
   "cell_type": "code",
   "execution_count": 14,
   "metadata": {},
   "outputs": [
    {
     "name": "stdout",
     "output_type": "stream",
     "text": [
      "[1, 2, 3, 4, 5]\n"
     ]
    }
   ],
   "source": [
    "#Problem 4: Merging Two Lists While Removing Duplicates\n",
    "list1 = [1, 2, 3]\n",
    "list2 = [3, 4, 5]\n",
    "print(list(set(list1 + list2)))"
   ]
  },
  {
   "cell_type": "code",
   "execution_count": 15,
   "metadata": {},
   "outputs": [
    {
     "name": "stdout",
     "output_type": "stream",
     "text": [
      "[1, 2, 3, 4, 5, 6]\n"
     ]
    }
   ],
   "source": [
    "#Problem 6: Flattening a List of Lists into a Single List\n",
    "nested_list = [[1, 2], [3, 4], [5, 6]]\n",
    "ll = []\n",
    "for i in nested_list:\n",
    "    for j in i:\n",
    "        ll.append(j)\n",
    "print(ll)\n"
   ]
  },
  {
   "cell_type": "code",
   "execution_count": 29,
   "metadata": {},
   "outputs": [
    {
     "name": "stdout",
     "output_type": "stream",
     "text": [
      "{'Bob': 72, 'Charlie': 90, 'Zlice': 85}\n"
     ]
    }
   ],
   "source": [
    "#Problem 7: Sorting a Dictionary by Value\n",
    "scores = {\"Zlice\": 85, \"Bob\": 72, \"Charlie\": 90}\n",
    "new_dict = dict(sorted(scores.items()))\n",
    "print(new_dict)"
   ]
  },
  {
   "cell_type": "code",
   "execution_count": 31,
   "metadata": {},
   "outputs": [
    {
     "name": "stdout",
     "output_type": "stream",
     "text": [
      "{'Bob': 72, 'Zlice': 85, 'Charlie': 90}\n"
     ]
    }
   ],
   "source": [
    "#Problem 7: Sorting a Dictionary by Value\n",
    "scores = {\"Zlice\": 85, \"Bob\": 72, \"Charlie\": 90}\n",
    "new_dict = dict(sorted(scores.items(), key=lambda item: item[1]))\n",
    "print(new_dict)"
   ]
  },
  {
   "cell_type": "code",
   "execution_count": null,
   "metadata": {},
   "outputs": [],
   "source": []
  }
 ],
 "metadata": {
  "kernelspec": {
   "display_name": "Python 3",
   "language": "python",
   "name": "python3"
  },
  "language_info": {
   "codemirror_mode": {
    "name": "ipython",
    "version": 3
   },
   "file_extension": ".py",
   "mimetype": "text/x-python",
   "name": "python",
   "nbconvert_exporter": "python",
   "pygments_lexer": "ipython3",
   "version": "3.10.6"
  }
 },
 "nbformat": 4,
 "nbformat_minor": 2
}
