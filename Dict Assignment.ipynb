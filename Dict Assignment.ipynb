{
 "cells": [
  {
   "cell_type": "markdown",
   "metadata": {},
   "source": [
    "1) Accept 5 students name and store them in the dictionary by providing keys from 1 to 5 respectively."
   ]
  },
  {
   "cell_type": "code",
   "execution_count": 1,
   "metadata": {},
   "outputs": [
    {
     "name": "stdout",
     "output_type": "stream",
     "text": [
      "Dictionary: {1: 'omkar', 2: 'ankit', 3: 'sanjeev', 4: 'kedar', 5: 'kishor'}\n"
     ]
    }
   ],
   "source": [
    "# Initialize an empty dictionary\n",
    "students_dict = {}\n",
    "\n",
    "# Accept names for 5 students and store them in the dictionary with keys from 1 to 5\n",
    "for i in range(1, 6):\n",
    "    student_name = input(f\"Enter name for student {i}: \")\n",
    "    students_dict[i] = student_name\n",
    "\n",
    "# Print the resulting dictionary\n",
    "print(\"Dictionary:\", students_dict)\n"
   ]
  },
  {
   "cell_type": "markdown",
   "metadata": {},
   "source": [
    "2) create a dictionary with pairs\n",
    "\tsoap:100\n",
    "\tdeo:300\n",
    "\tperfume:400"
   ]
  },
  {
   "cell_type": "code",
   "execution_count": 7,
   "metadata": {},
   "outputs": [
    {
     "name": "stdout",
     "output_type": "stream",
     "text": [
      "{'soap': 100, 'deo': 300, 'perfume': 400}\n"
     ]
    }
   ],
   "source": [
    "dict = {'soap':100,'deo':300,'perfume':400}\n",
    "print(dict)"
   ]
  },
  {
   "cell_type": "markdown",
   "metadata": {},
   "source": [
    "3) define a class \"Student\" with members\n",
    "\tname,age,address and qualification\n",
    "\t\n",
    "   define parameterized constructor and \"str\" member function which returns all the members\n",
    "\n",
    "   create 4 objects of Student by passing values.\n",
    "\n",
    "now create a dictionary with rollno ( start from 1 ) as a key and student object as a value.\n",
    "\n",
    "accept a rollno from user and display all its details i.e. name,age,address and qualification.\n",
    "also display message \"student not found\" in case if rollno entered by user is not available as a key inside the dictionary."
   ]
  },
  {
   "cell_type": "code",
   "execution_count": null,
   "metadata": {},
   "outputs": [],
   "source": []
  },
  {
   "cell_type": "markdown",
   "metadata": {},
   "source": [
    "4)  Given a dictionary of students and their favourite colours: \n",
    "people={'Arham':'Blue','Lisa':'Yellow',''Vinod:'Purple','Jenny':'Pink'} \n",
    "1. Find out how many students are in the list \n",
    "2. Change Lisa’s favourite colour \n",
    "3. Remove 'Jenny' and her favourite color\n",
    "4. Sort and print students and their favourite colours alphabetically by name"
   ]
  },
  {
   "cell_type": "code",
   "execution_count": 27,
   "metadata": {},
   "outputs": [
    {
     "name": "stdout",
     "output_type": "stream",
     "text": [
      "4\n",
      "{'Arham': 'Blue', 'Lisa': 'Blue', 'Vinod': 'Purple', 'Jenny': 'Pink'}\n",
      "{'Arham': 'Blue', 'Lisa': 'Blue', 'Vinod': 'Purple'}\n",
      "('Arham', 'Blue')\n",
      "('Lisa', 'Blue')\n",
      "('Vinod', 'Purple')\n"
     ]
    }
   ],
   "source": [
    "people={'Arham':'Blue','Lisa':'Yellow','Vinod':'Purple','Jenny':'Pink'}\n",
    "#print(people)\n",
    "#1. Find out how many students are in the list \n",
    "print(len(people.keys()))\n",
    "#2. Change Lisa’s favourite colour \n",
    "people['Lisa'] = 'Blue'\n",
    "print(people)\n",
    "#3. Remove 'Jenny' and her favourite color\n",
    "people.pop('Jenny')\n",
    "print(people)\n",
    "#4. Sort and print students and their favourite colours alphabetically by name\n",
    "for i in people.items(): #It returns tuple so we convert it into list and then sort it\n",
    "    list(i).sort()\n",
    "    print(i)\n"
   ]
  },
  {
   "cell_type": "code",
   "execution_count": 3,
   "metadata": {},
   "outputs": [
    {
     "name": "stdout",
     "output_type": "stream",
     "text": [
      "123\n"
     ]
    }
   ],
   "source": [
    "dict = {1:123,2:234,3:345,4:456,5:5678}\n",
    "val = input(\"Enter key/value u want to search in dict: \")\n",
    "if int(val) in dict.values():\n",
    "    print(val)\n",
    "else:\n",
    "    print(\"not present\")"
   ]
  }
 ],
 "metadata": {
  "kernelspec": {
   "display_name": "Python 3",
   "language": "python",
   "name": "python3"
  },
  "language_info": {
   "codemirror_mode": {
    "name": "ipython",
    "version": 3
   },
   "file_extension": ".py",
   "mimetype": "text/x-python",
   "name": "python",
   "nbconvert_exporter": "python",
   "pygments_lexer": "ipython3",
   "version": "3.10.6"
  }
 },
 "nbformat": 4,
 "nbformat_minor": 2
}
