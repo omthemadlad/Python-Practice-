{
 "cells": [
  {
   "cell_type": "code",
   "execution_count": 42,
   "metadata": {},
   "outputs": [
    {
     "name": "stdout",
     "output_type": "stream",
     "text": [
      "Not a Prime !!!!\n"
     ]
    }
   ],
   "source": [
    "#Prime Number\n",
    "\n",
    "x = int(input(\"Enter a number to check Prime/Non-Prime: \"))\n",
    "if x > 0:\n",
    "    for i in range(2,(x//2)+1):\n",
    "        if x%i==0:\n",
    "            print(\"Not a Prime !!!!\")\n",
    "            break\n",
    "    else:\n",
    "        print(\"Prime !!!!\")"
   ]
  },
  {
   "cell_type": "code",
   "execution_count": 1,
   "metadata": {},
   "outputs": [
    {
     "name": "stdout",
     "output_type": "stream",
     "text": [
      "0\n",
      "1\n",
      "123581321345589144"
     ]
    }
   ],
   "source": [
    "# Fibonacci Series\n",
    "\n",
    "a = 0\n",
    "b = 1\n",
    "print(a)\n",
    "print(b)\n",
    "c = int(input(\"Enter till the number you want to print fibonacci:\"))\n",
    "for i in range (1,c):\n",
    "    i = a + b\n",
    "    a = b\n",
    "    b = i\n",
    "    print(i)"
   ]
  },
  {
   "cell_type": "code",
   "execution_count": 3,
   "metadata": {},
   "outputs": [
    {
     "name": "stdout",
     "output_type": "stream",
     "text": [
      "0\n",
      "1\n",
      "1\n",
      "2\n",
      "3\n",
      "5\n",
      "8\n",
      "13\n",
      "21\n",
      "34\n",
      "55\n"
     ]
    }
   ],
   "source": [
    "a=0\n",
    "b=1\n",
    "for i in range (a,11):\n",
    "    print(a)\n",
    "    c=a+b\n",
    "    a=b\n",
    "    b=c"
   ]
  },
  {
   "cell_type": "code",
   "execution_count": 4,
   "metadata": {},
   "outputs": [
    {
     "name": "stdout",
     "output_type": "stream",
     "text": [
      "It is palindrome!\n"
     ]
    }
   ],
   "source": [
    "# Palindrome Number \n",
    "#Method 1\n",
    "x = input(\"Enter a number to check if it is palindrome or not:\")\n",
    "if(x == x[::-1]):\n",
    "    print(\"It is palindrome!\")\n",
    "else:\n",
    "    print(\"Not a palindrome!\")\n",
    "\n"
   ]
  },
  {
   "cell_type": "code",
   "execution_count": 9,
   "metadata": {},
   "outputs": [
    {
     "name": "stdout",
     "output_type": "stream",
     "text": [
      "15\n"
     ]
    }
   ],
   "source": [
    "#Sum of First N natural numbers\n",
    "J=0\n",
    "x = int(input(\"Enter a Number:\"))\n",
    "for i in range (1,x+1):\n",
    "    J=J+i\n",
    "print(J)"
   ]
  },
  {
   "cell_type": "code",
   "execution_count": 16,
   "metadata": {},
   "outputs": [
    {
     "name": "stdout",
     "output_type": "stream",
     "text": [
      "6\n"
     ]
    }
   ],
   "source": [
    "#Sum of First N natural numbers using sum of Nth term\n",
    "num = 3\n",
    "print(int(num*(num+1)/2))"
   ]
  },
  {
   "cell_type": "code",
   "execution_count": 20,
   "metadata": {},
   "outputs": [
    {
     "data": {
      "text/plain": [
       "15"
      ]
     },
     "execution_count": 20,
     "metadata": {},
     "output_type": "execute_result"
    }
   ],
   "source": [
    "#Sum of N natural numbers using Recursion\n",
    "def sum(num):\n",
    "    if num == 1:\n",
    "        return 1\n",
    "    return num + sum(num-1)\n",
    "sum(5)"
   ]
  },
  {
   "cell_type": "code",
   "execution_count": null,
   "metadata": {},
   "outputs": [],
   "source": [
    "Palindrome Check:\n",
    "Write a Python function to check if a given string is a palindrome.\n",
    "\n",
    "Fibonacci Series:\n",
    "Write a Python function to generate the Fibonacci sequence up to a specified number of terms.\n",
    "\n",
    "Armstrong Number:\n",
    "Write a Python function to check if a given number is an Armstrong number.\n",
    "\n",
    "Factorial Calculation:\n",
    "Write a Python function to calculate the factorial of a given number.\n",
    "\n",
    "Reverse a String:\n",
    "Write a Python function to reverse a given string without using built-in functions.\n",
    "\n",
    "Find Prime Numbers:\n",
    "Write a Python function to find all prime numbers within a specified range.\n",
    "\n",
    "Check Anagram:\n",
    "Write a Python function to check if two strings are anagrams of each other.\n",
    "\n",
    "Sum of Digits:\n",
    "Write a Python function to calculate the sum of the digits of a given number.\n",
    "\n",
    "Binary to Decimal Conversion:\n",
    "Write a Python function to convert a binary number to its decimal equivalent.\n",
    "\n",
    "Common Elements in Lists:\n",
    "Write a Python function to find and return the common elements between two lists.\n",
    "\n",
    "Leap Year Check:\n",
    "Write a Python function to check if a given year is a leap year.\n",
    "\n",
    "Count Vowels and Consonants:\n",
    "Write a Python function to count the number of vowels and consonants in a given string.\n",
    "\n",
    "Find the Largest Element:\n",
    "Write a Python function to find the largest element in a list or array.\n",
    "\n",
    "Matrix Transposition:\n",
    "Write a Python function to transpose a given matrix.\n",
    "\n",
    "Remove Duplicates:\n",
    "Write a Python function to remove duplicates from a list."
   ]
  },
  {
   "cell_type": "code",
   "execution_count": 45,
   "metadata": {},
   "outputs": [
    {
     "name": "stdout",
     "output_type": "stream",
     "text": [
      "There are 5 vowels in this sentence.\n"
     ]
    }
   ],
   "source": [
    "import re\n",
    "string = input(\"Enter a word or a sentence: \")\n",
    "vowels = re.findall(r'[aeiouAEIOU]', string)\n",
    "num_vowels = len(vowels)\n",
    "print(f\"There are {num_vowels} vowels in this sentence.\")\n"
   ]
  },
  {
   "cell_type": "code",
   "execution_count": 52,
   "metadata": {},
   "outputs": [
    {
     "data": {
      "text/plain": [
       "15"
      ]
     },
     "execution_count": 52,
     "metadata": {},
     "output_type": "execute_result"
    }
   ],
   "source": [
    "def outer(a,b):\n",
    "    def inner():\n",
    "        c = a +b\n",
    "        return c\n",
    "    result = inner() + 5\n",
    "    return result\n",
    "\n",
    "outer(5,5)"
   ]
  },
  {
   "cell_type": "code",
   "execution_count": 13,
   "metadata": {},
   "outputs": [
    {
     "name": "stdout",
     "output_type": "stream",
     "text": [
      "        * \n",
      "      * * \n",
      "    * * * \n",
      "  * * * * \n",
      "* * * * * \n",
      "  * * * * \n",
      "    * * * \n",
      "      * * \n",
      "        * \n"
     ]
    }
   ],
   "source": [
    "for i in range(1,6):\n",
    "    print(\"  \" * (5-i) + \"* \" * i)\n",
    "\n",
    "for j in range(4,0,-1):\n",
    "    print(\"  \" * (5 - j) + \"* \" * j)"
   ]
  },
  {
   "cell_type": "code",
   "execution_count": 5,
   "metadata": {},
   "outputs": [
    {
     "name": "stdout",
     "output_type": "stream",
     "text": [
      "The original list is: [1, 3, 5, 6, 3, 5, 6, 1]\n",
      "The list after removing duplicates: [1, 3, 5, 6]\n"
     ]
    }
   ],
   "source": [
    "test_list = [1, 3, 5, 6, 3, 5, 6, 1]\n",
    "print(\"The original list is: \"+ str(test_list))\n",
    "\n",
    "res = []\n",
    "[res.append(x) for x in test_list if x not in res]\n",
    "\n",
    "print (\"The list after removing duplicates: \"+ str(res))"
   ]
  },
  {
   "cell_type": "code",
   "execution_count": 46,
   "metadata": {},
   "outputs": [
    {
     "name": "stdout",
     "output_type": "stream",
     "text": [
      "      \n",
      "666666     \n",
      "55555    \n",
      "4444   \n",
      "333  \n",
      "22 \n",
      "1\n"
     ]
    }
   ],
   "source": [
    "for i in range(6,0,-1):\n",
    "    print(\" \"*(i))\n",
    "    for j in range(i):\n",
    "        print(i,end='')\n",
    "print()"
   ]
  },
  {
   "cell_type": "code",
   "execution_count": 52,
   "metadata": {},
   "outputs": [
    {
     "name": "stdout",
     "output_type": "stream",
     "text": [
      "     \n",
      "1    \n",
      "22   \n",
      "333  \n",
      "4444 \n",
      "55555\n"
     ]
    }
   ],
   "source": [
    "for i in range(1,6):\n",
    "    print(\" \"*(6-i))\n",
    "    for j in range(i):\n",
    "        print(i,end=\"\")\n",
    "print()"
   ]
  },
  {
   "cell_type": "code",
   "execution_count": 63,
   "metadata": {},
   "outputs": [
    {
     "name": "stdout",
     "output_type": "stream",
     "text": [
      "['O', 'M', 'K', 'A', 'R']\n",
      "OMKAR\n"
     ]
    }
   ],
   "source": [
    "string = \"OMKAR\"\n",
    "list1 = []\n",
    "for i in string:\n",
    "    list1.append(i)\n",
    "print(list1)\n",
    "\n",
    "list2 = \"\".join(list1)\n",
    "print(list2)"
   ]
  },
  {
   "cell_type": "code",
   "execution_count": 7,
   "metadata": {},
   "outputs": [
    {
     "name": "stdout",
     "output_type": "stream",
     "text": [
      "[2, 3, 4, 6, 7, 8, 9, 10, 11, 12, 13, 14, 15, 16, 17, 18, 19, 20, 21, 22, 23, 24]\n"
     ]
    }
   ],
   "source": [
    "x = 25\n",
    "list1 = []\n",
    "for i in range(2,x+1):\n",
    "    if x%i != 0:\n",
    "         list1.append(i)\n",
    "print(list1)"
   ]
  },
  {
   "cell_type": "code",
   "execution_count": 12,
   "metadata": {},
   "outputs": [
    {
     "ename": "UnboundLocalError",
     "evalue": "local variable 'i' referenced before assignment",
     "output_type": "error",
     "traceback": [
      "\u001b[1;31m---------------------------------------------------------------------------\u001b[0m",
      "\u001b[1;31mUnboundLocalError\u001b[0m                         Traceback (most recent call last)",
      "Cell \u001b[1;32mIn[12], line 14\u001b[0m\n\u001b[0;32m     10\u001b[0m         \u001b[38;5;28;01mreturn\u001b[39;00m \u001b[38;5;28;01mTrue\u001b[39;00m        \n\u001b[0;32m     13\u001b[0m \u001b[38;5;28;01mfor\u001b[39;00m i \u001b[38;5;129;01min\u001b[39;00m \u001b[38;5;28mrange\u001b[39m(x):\n\u001b[1;32m---> 14\u001b[0m     \u001b[38;5;28;01mif\u001b[39;00m \u001b[43mprime\u001b[49m\u001b[43m(\u001b[49m\u001b[43mi\u001b[49m\u001b[43m)\u001b[49m:\n\u001b[0;32m     15\u001b[0m         list1\u001b[38;5;241m.\u001b[39mappend(i)\n\u001b[0;32m     17\u001b[0m \u001b[38;5;28mprint\u001b[39m(list1)\n",
      "Cell \u001b[1;32mIn[12], line 4\u001b[0m, in \u001b[0;36mprime\u001b[1;34m(num)\u001b[0m\n\u001b[0;32m      3\u001b[0m \u001b[38;5;28;01mdef\u001b[39;00m \u001b[38;5;21mprime\u001b[39m(num):\n\u001b[1;32m----> 4\u001b[0m     \u001b[38;5;28;01mif\u001b[39;00m \u001b[43mi\u001b[49m\u001b[38;5;241m<\u001b[39m\u001b[38;5;241m2\u001b[39m:\n\u001b[0;32m      5\u001b[0m         \u001b[38;5;28;01mreturn\u001b[39;00m \u001b[38;5;28;01mFalse\u001b[39;00m\n\u001b[0;32m      6\u001b[0m     \u001b[38;5;28;01melse\u001b[39;00m:\n",
      "\u001b[1;31mUnboundLocalError\u001b[0m: local variable 'i' referenced before assignment"
     ]
    }
   ],
   "source": [
    "x=25\n",
    "list1=[] \n",
    "def prime(num):\n",
    "    if i<2:\n",
    "        return False\n",
    "    else:\n",
    "        for i in range(2, int(num**0.5)+1):\n",
    "            if num%i==0:\n",
    "                return False\n",
    "        return True        \n",
    "\n",
    "\n",
    "for i in range(x):\n",
    "    if prime(i):\n",
    "        list1.append(i)\n",
    "\n",
    "print(list1)\n"
   ]
  },
  {
   "cell_type": "code",
   "execution_count": 18,
   "metadata": {},
   "outputs": [
    {
     "data": {
      "text/plain": [
       "True"
      ]
     },
     "execution_count": 18,
     "metadata": {},
     "output_type": "execute_result"
    }
   ],
   "source": [
    "def prime(num):\n",
    "    if num == 1:\n",
    "        return False\n",
    "    else:\n",
    "        for i in range(2,num//2):\n",
    "            if num % i != 0:\n",
    "                return True\n",
    "            else:\n",
    "                 return False\n",
    "prime(97)"
   ]
  },
  {
   "cell_type": "code",
   "execution_count": 8,
   "metadata": {},
   "outputs": [
    {
     "name": "stdout",
     "output_type": "stream",
     "text": [
      "[11, 13, 17, 19]\n"
     ]
    }
   ],
   "source": [
    "x = int(input(\"Enter a number: \"))\n",
    "ls = []\n",
    "for i in range(x,x+x+1): \n",
    "    for j in range(2,i):\n",
    "        if i%j == 0:\n",
    "            break\n",
    "    else:\n",
    "        ls.append(i)\n",
    "print(ls)\n",
    "        "
   ]
  },
  {
   "cell_type": "code",
   "execution_count": 15,
   "metadata": {},
   "outputs": [
    {
     "name": "stdout",
     "output_type": "stream",
     "text": [
      "[11, 13, 17, 19, 23, 29, 31, 37, 41, 43]\n"
     ]
    }
   ],
   "source": [
    "x = int(input(\"Enter a number:\"))\n",
    "ls1 = []\n",
    "count = 0\n",
    "i = x + 1\n",
    "while count < x:\n",
    "    for j in range(2,i):\n",
    "        if i%j == 0:\n",
    "            break\n",
    "    else:\n",
    "        ls1.append(i)\n",
    "        count+=1\n",
    "    i += 1\n",
    "print(ls1)"
   ]
  },
  {
   "cell_type": "code",
   "execution_count": null,
   "metadata": {},
   "outputs": [],
   "source": [
    "x = int(input(\"Enter a number: \"))\n",
    "ls1 = []\n",
    "count = 0\n",
    "i = x + 1\n",
    "while count < x:\n",
    "    for j in range(2, i):\n",
    "        if i % j == 0:\n",
    "            break\n",
    "    else:\n",
    "        ls1.append(i)\n",
    "        count += 1\n",
    "    i += 1\n",
    "\n",
    "print(ls1)\n"
   ]
  },
  {
   "cell_type": "code",
   "execution_count": 29,
   "metadata": {},
   "outputs": [
    {
     "name": "stdout",
     "output_type": "stream",
     "text": [
      "[2, 2, 3, 3, 2, 4, 3, 4, 2, 3, 4, 5]\n"
     ]
    }
   ],
   "source": [
    "n = int(input(\"Enter The Number\"))\n",
    "sum = []\n",
    "for i in range(2,n+1):\n",
    "    for j in range(2,i//2+1):\n",
    "        if i % j != 0:\n",
    "            sum.append(j)\n",
    "print(sum)\n",
    "        "
   ]
  },
  {
   "cell_type": "code",
   "execution_count": 54,
   "metadata": {},
   "outputs": [
    {
     "name": "stdout",
     "output_type": "stream",
     "text": [
      "5\n",
      "[2, 3, 5, 7, 11]\n"
     ]
    }
   ],
   "source": [
    "n1 = int(input(\"Enter The Number\"))\n",
    "sum1=[]\n",
    "for i in range(2,n1+1):\n",
    "    for j in range(2,int(i//2)+1):\n",
    "        if i % j == 0:\n",
    "            break\n",
    "    else:\n",
    "        sum1.append(i)\n",
    "print(len(sum1))\n",
    "print(sum1)\n"
   ]
  },
  {
   "cell_type": "code",
   "execution_count": 81,
   "metadata": {},
   "outputs": [
    {
     "name": "stdout",
     "output_type": "stream",
     "text": [
      "[1, 2, 2, 1]\n"
     ]
    },
    {
     "ename": "ValueError",
     "evalue": "invalid literal for int() with base 10: '[1, 2, 2, 1] [1, 2, 2, 1] [1, 2, 2, 1] [1, 2, 2, 1]'",
     "output_type": "error",
     "traceback": [
      "\u001b[1;31m---------------------------------------------------------------------------\u001b[0m",
      "\u001b[1;31mValueError\u001b[0m                                Traceback (most recent call last)",
      "Cell \u001b[1;32mIn[81], line 10\u001b[0m\n\u001b[0;32m      8\u001b[0m \u001b[38;5;28mprint\u001b[39m(r)\n\u001b[0;32m      9\u001b[0m y \u001b[38;5;241m=\u001b[39m \u001b[38;5;124m\"\u001b[39m\u001b[38;5;124m \u001b[39m\u001b[38;5;124m\"\u001b[39m\u001b[38;5;241m.\u001b[39mjoin(\u001b[38;5;28mstr\u001b[39m(r)\u001b[38;5;28;01mfor\u001b[39;00m x \u001b[38;5;129;01min\u001b[39;00m r)\n\u001b[1;32m---> 10\u001b[0m z \u001b[38;5;241m=\u001b[39m \u001b[38;5;28;43mint\u001b[39;49m\u001b[43m(\u001b[49m\u001b[43my\u001b[49m\u001b[43m)\u001b[49m\n\u001b[0;32m     11\u001b[0m \u001b[38;5;28mprint\u001b[39m(y)\n\u001b[0;32m     12\u001b[0m \u001b[38;5;28;01mif\u001b[39;00m x \u001b[38;5;241m==\u001b[39m y:\n",
      "\u001b[1;31mValueError\u001b[0m: invalid literal for int() with base 10: '[1, 2, 2, 1] [1, 2, 2, 1] [1, 2, 2, 1] [1, 2, 2, 1]'"
     ]
    }
   ],
   "source": [
    "x=1221\n",
    "temp = x\n",
    "r=[]\n",
    "while temp>0:\n",
    "    d = temp % 10\n",
    "    temp = temp // 10\n",
    "    r.append(d)\n",
    "print(r)\n",
    "y = \" \".join(str(r)for x in r)\n",
    "z = int(y)\n",
    "print(y)\n",
    "if x == y:\n",
    "    print(\"palindr\")\n",
    "else:\n",
    "    print('sbdngbs')\n"
   ]
  },
  {
   "cell_type": "code",
   "execution_count": 87,
   "metadata": {},
   "outputs": [
    {
     "name": "stdout",
     "output_type": "stream",
     "text": [
      "11\n"
     ]
    }
   ],
   "source": [
    "x = [1,2,2,5]\n",
    "y = \"\".join(str(x) for i in x)\n",
    "z = int(i)\n",
    "print(i)"
   ]
  },
  {
   "cell_type": "code",
   "execution_count": 1,
   "metadata": {},
   "outputs": [
    {
     "ename": "TypeError",
     "evalue": "object of type 'int' has no len()",
     "output_type": "error",
     "traceback": [
      "\u001b[1;31m---------------------------------------------------------------------------\u001b[0m",
      "\u001b[1;31mTypeError\u001b[0m                                 Traceback (most recent call last)",
      "Cell \u001b[1;32mIn[1], line 2\u001b[0m\n\u001b[0;32m      1\u001b[0m x \u001b[38;5;241m=\u001b[39m\u001b[38;5;241m1100111001011110\u001b[39m\n\u001b[1;32m----> 2\u001b[0m \u001b[38;5;28mprint\u001b[39m(\u001b[38;5;28;43mlen\u001b[39;49m\u001b[43m(\u001b[49m\u001b[43mx\u001b[49m\u001b[43m)\u001b[49m)\n\u001b[0;32m      3\u001b[0m \u001b[38;5;66;03m# for i in range (1,len(x)):\u001b[39;00m\n\u001b[0;32m      4\u001b[0m \u001b[38;5;66;03m#     if i \u001b[39;00m\n",
      "\u001b[1;31mTypeError\u001b[0m: object of type 'int' has no len()"
     ]
    }
   ],
   "source": [
    "x = 1100111001011110\n",
    "print(len(x))\n",
    "for i in range (1,len(x)):\n",
    "    if i \n"
   ]
  },
  {
   "cell_type": "code",
   "execution_count": 8,
   "metadata": {},
   "outputs": [
    {
     "name": "stdout",
     "output_type": "stream",
     "text": [
      "[1, 9, 3, 4, 3, 9, 9]\n"
     ]
    }
   ],
   "source": [
    "x = [1,2,3,4,3,2,2]\n",
    "for i in range(len(x)):\n",
    "    if x[i] == 2:\n",
    "        x[i] = 9\n",
    "print(x)"
   ]
  },
  {
   "cell_type": "code",
   "execution_count": 9,
   "metadata": {},
   "outputs": [
    {
     "name": "stdout",
     "output_type": "stream",
     "text": [
      "['2', '2', '2', '2']\n",
      "['2', '2', '2', '2']\n"
     ]
    }
   ],
   "source": [
    "x = '2222'\n",
    "ls = []\n",
    "ls.extend(x)\n",
    "print(ls)\n",
    "for i in range(len(ls)):\n",
    "    if ls[i] == 2:\n",
    "        ls[i] = 9\n",
    "print(ls)"
   ]
  },
  {
   "cell_type": "code",
   "execution_count": 15,
   "metadata": {},
   "outputs": [
    {
     "name": "stdout",
     "output_type": "stream",
     "text": [
      "22\n"
     ]
    }
   ],
   "source": [
    "x = '22'\n",
    "for i in range(len(x)):\n",
    "    if x[i] == 2:\n",
    "        x[i] = 9\n",
    "print(x)"
   ]
  },
  {
   "cell_type": "code",
   "execution_count": 10,
   "metadata": {},
   "outputs": [
    {
     "name": "stdout",
     "output_type": "stream",
     "text": [
      "my eman is rakmo\n"
     ]
    }
   ],
   "source": [
    "x = \"my name is omkar\"\n",
    "l = x.split()\n",
    "l1 = []\n",
    "\n",
    "for i in range(len(l)):\n",
    "    if i % 2 != 0:\n",
    "        l1.append(l[i][::-1])\n",
    "    else:\n",
    "        l1.append(l[i])\n",
    "\n",
    "print(' '.join(l1))"
   ]
  },
  {
   "cell_type": "code",
   "execution_count": 11,
   "metadata": {},
   "outputs": [
    {
     "name": "stdout",
     "output_type": "stream",
     "text": [
      "Ab\n",
      "Abc\n",
      "Abcd\n",
      "Abcde\n",
      "Abcde\n"
     ]
    }
   ],
   "source": [
    "for i in range(1, 6):\n",
    "    print(\"A\" + \"bcde\"[:i])\n",
    "\n",
    "\n",
    "#Ye logic shi h 😀🤣🤣"
   ]
  },
  {
   "cell_type": "code",
   "execution_count": 22,
   "metadata": {},
   "outputs": [
    {
     "name": "stdout",
     "output_type": "stream",
     "text": [
      "242.0\n"
     ]
    }
   ],
   "source": [
    "  minute = 16\n",
    "\n",
    "  hour = 11\n",
    "  \n",
    "  minute_angle = 360 * minute / 60\n",
    "\n",
    "  # Calculate the angle of the hour hand.\n",
    "  hour_angle = 360 * hour / 12 + 360 * minute / (12 * 60)\n",
    "\n",
    "  # Calculate the difference between the two angles.\n",
    "  print(abs(minute_angle - hour_angle))"
   ]
  },
  {
   "cell_type": "code",
   "execution_count": 37,
   "metadata": {},
   "outputs": [
    {
     "name": "stdout",
     "output_type": "stream",
     "text": [
      "['my', 'name', 'is', 'anchal']\n",
      "ym name is lahcna\n"
     ]
    }
   ],
   "source": [
    "x = \"my name is anchal\"\n",
    "y = x.split()\n",
    "print(y)\n",
    "y[0] = y[0][::-1]\n",
    "y[-1] = y[-1][::-1]\n",
    "print(' '.join(y))"
   ]
  },
  {
   "cell_type": "code",
   "execution_count": 41,
   "metadata": {},
   "outputs": [
    {
     "name": "stdout",
     "output_type": "stream",
     "text": [
      "['i', 'love', 'the', 'coding', 'very', 'much']\n",
      "i.xyz.the.xyz.very.xyz\n"
     ]
    }
   ],
   "source": [
    "x = \"i.love.the.coding.very.much\"\n",
    "y = x.split('.')\n",
    "print(y)\n",
    "for i in range(1,len(y),2):\n",
    "    y[i] = 'xyz'\n",
    "print('.'.join(y))\n"
   ]
  },
  {
   "cell_type": "code",
   "execution_count": 54,
   "metadata": {},
   "outputs": [
    {
     "name": "stdout",
     "output_type": "stream",
     "text": [
      "aabbccaba abaccbbaa\n"
     ]
    },
    {
     "ename": "IndexError",
     "evalue": "string index out of range",
     "output_type": "error",
     "traceback": [
      "\u001b[1;31m---------------------------------------------------------------------------\u001b[0m",
      "\u001b[1;31mIndexError\u001b[0m                                Traceback (most recent call last)",
      "Cell \u001b[1;32mIn[54], line 6\u001b[0m\n\u001b[0;32m      3\u001b[0m \u001b[38;5;28mprint\u001b[39m(x, y)\n\u001b[0;32m      5\u001b[0m \u001b[38;5;28;01mfor\u001b[39;00m i \u001b[38;5;129;01min\u001b[39;00m \u001b[38;5;28mrange\u001b[39m(\u001b[38;5;241m0\u001b[39m,\u001b[38;5;28mlen\u001b[39m(x)):\n\u001b[1;32m----> 6\u001b[0m     \u001b[38;5;28;01mif\u001b[39;00m x[i] \u001b[38;5;241m==\u001b[39m \u001b[43mx\u001b[49m\u001b[43m[\u001b[49m\u001b[43mi\u001b[49m\u001b[38;5;241;43m+\u001b[39;49m\u001b[38;5;241;43m1\u001b[39;49m\u001b[43m]\u001b[49m:\n\u001b[0;32m      7\u001b[0m         x1 \u001b[38;5;241m=\u001b[39m x[:i] \u001b[38;5;241m+\u001b[39m x[i\u001b[38;5;241m+\u001b[39m\u001b[38;5;241m1\u001b[39m:]\n\u001b[0;32m      9\u001b[0m \u001b[38;5;28mprint\u001b[39m(x1)\n",
      "\u001b[1;31mIndexError\u001b[0m: string index out of range"
     ]
    }
   ],
   "source": [
    "x = \"aabbccaba\"\n",
    "y = x[::-1]\n",
    "print(x, y)\n",
    "\n",
    "for i in range(0,len(x)):\n",
    "    if x[i] == x[i+1]:\n",
    "        x1 = x[:i] + x[i+1:]\n",
    "\n",
    "print(x1)\n"
   ]
  },
  {
   "cell_type": "code",
   "execution_count": 4,
   "metadata": {},
   "outputs": [
    {
     "name": "stdout",
     "output_type": "stream",
     "text": [
      "2\n"
     ]
    }
   ],
   "source": [
    "# Initialize two pointers\n",
    "S = \"abababcabababa\"\n",
    "i = 0\n",
    "j = len(S) - 1\n",
    "\n",
    "# Traverse the string S\n",
    "while i < j and S[i] == S[j]:\n",
    "    \n",
    "    # Current char on the left pointer\n",
    "    d = S[i]\n",
    "\n",
    "    # Shift i towards the right\n",
    "    while i <= j and S[i] == d:\n",
    "        i += 1\n",
    "\n",
    "    # Shift j towards the left\n",
    "    while i <= j and S[j] == d:\n",
    "        j -= 1\n",
    "\n",
    "min_length = j - i + 1\n",
    "print(min_length)\n"
   ]
  },
  {
   "cell_type": "code",
   "execution_count": 14,
   "metadata": {},
   "outputs": [
    {
     "name": "stdout",
     "output_type": "stream",
     "text": [
      "10001\n"
     ]
    }
   ],
   "source": [
    "s = '00101'\n",
    "count = 0\n",
    "for c in s:\n",
    "    if c == '1':\n",
    "        count+=1\n",
    "print((count - 1)*'1'+(len(s)-count)*'0'+'1')"
   ]
  },
  {
   "cell_type": "code",
   "execution_count": 23,
   "metadata": {},
   "outputs": [
    {
     "name": "stdout",
     "output_type": "stream",
     "text": [
      "Yes\n"
     ]
    }
   ],
   "source": [
    "s1 = \"abc\"\n",
    "s2 = \"axbycz\"\n",
    "i = j = 0\n",
    "\n",
    "while i < len(s1) and j < len(s2):\n",
    "    if s1[i] == s2[j]:\n",
    "        i += 1\n",
    "    j += 1\n",
    "if i == len(s1):\n",
    "    print(\"Yes\")\n",
    "else:\n",
    "    print(\"No\")"
   ]
  },
  {
   "cell_type": "code",
   "execution_count": 22,
   "metadata": {},
   "outputs": [
    {
     "name": "stdout",
     "output_type": "stream",
     "text": [
      "[2, 3, 4, 5, 4, 3, 2, 1, 1, 1, 1]\n"
     ]
    }
   ],
   "source": [
    "x = [1, 1, 1, 1, 1, 1, 2, 3, 4, 5, 4, 3, 2, 1, 1, 1, 1]\n",
    "while len(x) > 1 and x[0] == x[1]:\n",
    "    x.pop(0)\n",
    "x.pop(0)\n",
    "print(x)"
   ]
  },
  {
   "cell_type": "code",
   "execution_count": 47,
   "metadata": {},
   "outputs": [
    {
     "name": "stdout",
     "output_type": "stream",
     "text": [
      "this is 19 string\n"
     ]
    }
   ],
   "source": [
    "s = \"   This   !@#is    *&19%$^ STRing   \"\n",
    "\n",
    "ls = ''.join(char if char.isalnum() or char.isspace() else ' ' for char in s)\n",
    "\n",
    "ls1 = ' '.join(ls.split())\n",
    "\n",
    "ls1_lower = ls1.lower()\n",
    "\n",
    "print(ls1_lower)\n"
   ]
  },
  {
   "cell_type": "code",
   "execution_count": 53,
   "metadata": {},
   "outputs": [
    {
     "name": "stdout",
     "output_type": "stream",
     "text": [
      "55\n"
     ]
    }
   ],
   "source": [
    "n = 10\n",
    "ls = [0,1]\n",
    "for i in range(n-1):\n",
    "    x = ls[i]+ls[i+1]\n",
    "    ls.append(x)\n",
    "print(ls[n])"
   ]
  },
  {
   "cell_type": "code",
   "execution_count": null,
   "metadata": {},
   "outputs": [],
   "source": []
  }
 ],
 "metadata": {
  "kernelspec": {
   "display_name": "Python 3",
   "language": "python",
   "name": "python3"
  },
  "language_info": {
   "codemirror_mode": {
    "name": "ipython",
    "version": 3
   },
   "file_extension": ".py",
   "mimetype": "text/x-python",
   "name": "python",
   "nbconvert_exporter": "python",
   "pygments_lexer": "ipython3",
   "version": "3.10.6"
  }
 },
 "nbformat": 4,
 "nbformat_minor": 2
}
